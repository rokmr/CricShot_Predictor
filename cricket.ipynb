{
  "cells": [
    {
      "cell_type": "code",
      "execution_count": null,
      "metadata": {
        "id": "mBRr-TMFMVPP"
      },
      "outputs": [],
      "source": [
        "# importing necessary modules\n",
        "import os\n",
        "import numpy as np\n",
        "import torch\n",
        "import subprocess\n",
        "from torch import nn, optim\n",
        "from torch.utils.data import DataLoader, TensorDataset, random_split\n",
        "from sklearn.metrics import accuracy_score, confusion_matrix\n",
        "from tqdm import tqdm\n",
        "from transformers import CLIPProcessor, CLIPModel\n",
        "from PIL import Image"
      ]
    },
    {
      "cell_type": "code",
      "execution_count": null,
      "metadata": {
        "id": "MVWgbJ5wMVPQ",
        "outputId": "427ec130-4584-4da4-99cd-40f1f714566a"
      },
      "outputs": [
        {
          "name": "stdout",
          "output_type": "stream",
          "text": [
            "cpu\n"
          ]
        }
      ],
      "source": [
        "# device agnostic setting\n",
        "device = \"cuda\" if torch.cuda.is_available() else \"cpu\"\n",
        "print(device)"
      ]
    },
    {
      "cell_type": "markdown",
      "source": [
        "# Video frames generation using ffmpeg"
      ],
      "metadata": {
        "id": "olS0c_g1Mcb8"
      }
    },
    {
      "cell_type": "code",
      "execution_count": null,
      "metadata": {
        "id": "BYDMm1wdMVPQ",
        "outputId": "e4032355-1177-4ea3-dc28-352c52c0011b"
      },
      "outputs": [
        {
          "name": "stdout",
          "output_type": "stream",
          "text": [
            "Processed lofted_0063.avi in lofted\n",
            "Processed lofted_0059.avi in lofted\n",
            "Processed lofted_0064.avi in lofted\n",
            "Processed lofted_0065.avi in lofted\n",
            "Processed lofted_0179.avi in lofted\n",
            "Processed lofted_0062.avi in lofted\n",
            "Processed lofted_0071.avi in lofted\n",
            "Processed lofted_0061.avi in lofted\n",
            "Processed lofted_0058.avi in lofted\n",
            "Processed lofted_0067.avi in lofted\n",
            "Processed lofted_0043.avi in lofted\n",
            "Processed lofted_0045.avi in lofted\n",
            "Processed lofted_0016.avi in lofted\n",
            "Processed lofted_0046.avi in lofted\n",
            "Processed lofted_0015.avi in lofted\n",
            "Processed lofted_0014.avi in lofted\n",
            "Processed lofted_0017.avi in lofted\n",
            "Processed lofted_0020.avi in lofted\n",
            "Processed lofted_0051.avi in lofted\n",
            "Processed lofted_0024.avi in lofted\n",
            "Processed lofted_0026.avi in lofted\n",
            "Processed lofted_0173.avi in lofted\n",
            "Processed lofted_0050.avi in lofted\n",
            "Processed lofted_0018.avi in lofted\n",
            "Processed lofted_0032.avi in lofted\n",
            "Processed lofted_0054.avi in lofted\n",
            "Processed lofted_0040.avi in lofted\n",
            "Processed lofted_0047.avi in lofted\n",
            "Processed lofted_0029.avi in lofted\n",
            "Processed lofted_0023.avi in lofted\n",
            "Processed lofted_0028.avi in lofted\n",
            "Processed lofted_0053.avi in lofted\n",
            "Processed lofted_0022.avi in lofted\n",
            "Processed lofted_0025.avi in lofted\n",
            "Processed lofted_0031.avi in lofted\n",
            "Processed lofted_0052.avi in lofted\n",
            "Processed lofted_0038.avi in lofted\n",
            "Processed lofted_0027.avi in lofted\n",
            "Processed lofted_0042.avi in lofted\n",
            "Processed lofted_0035.avi in lofted\n",
            "Processed lofted_0174.avi in lofted\n",
            "Processed lofted_0034.avi in lofted\n",
            "Processed lofted_0036.avi in lofted\n",
            "Processed lofted_0176.avi in lofted\n",
            "Processed lofted_0009.avi in lofted\n",
            "Processed lofted_0169.avi in lofted\n",
            "Processed lofted_0171.avi in lofted\n",
            "Processed lofted_0008.avi in lofted\n",
            "Processed lofted_0170.avi in lofted\n",
            "Processed lofted_0165.avi in lofted\n",
            "Processed lofted_0007.avi in lofted\n",
            "Processed lofted_0167.avi in lofted\n",
            "Processed lofted_0168.avi in lofted\n",
            "Processed lofted_0166.avi in lofted\n",
            "Processed lofted_0006.avi in lofted\n",
            "Processed lofted_0004.avi in lofted\n",
            "Processed lofted_0003.avi in lofted\n",
            "Processed lofted_0198.avi in lofted\n",
            "Processed lofted_0197.avi in lofted\n",
            "Processed lofted_0002.avi in lofted\n",
            "Processed lofted_0196.avi in lofted\n",
            "Processed lofted_0164.avi in lofted\n",
            "Processed lofted_0195.avi in lofted\n",
            "Processed lofted_0161.avi in lofted\n",
            "Processed lofted_0194.avi in lofted\n",
            "Processed lofted_0163.avi in lofted\n",
            "Processed lofted_0193.avi in lofted\n",
            "Processed lofted_0148.avi in lofted\n",
            "Processed lofted_0186.avi in lofted\n",
            "Processed lofted_0120.avi in lofted\n",
            "Processed lofted_0175.avi in lofted\n",
            "Processed lofted_0162.avi in lofted\n",
            "Processed lofted_0113.avi in lofted\n",
            "Processed lofted_0114.avi in lofted\n",
            "Processed lofted_0104.avi in lofted\n",
            "Processed lofted_0111.avi in lofted\n",
            "Processed lofted_0110.avi in lofted\n",
            "Processed lofted_0112.avi in lofted\n",
            "Processed lofted_0103.avi in lofted\n",
            "Processed lofted_0089.avi in lofted\n",
            "Processed lofted_0099.avi in lofted\n",
            "Processed lofted_0109.avi in lofted\n",
            "Processed lofted_0084.avi in lofted\n",
            "Processed lofted_0060.avi in lofted\n",
            "Processed lofted_0090.avi in lofted\n",
            "Processed lofted_0086.avi in lofted\n",
            "Processed lofted_0088.avi in lofted\n",
            "Processed lofted_0087.avi in lofted\n",
            "Processed lofted_0044.avi in lofted\n",
            "Processed lofted_0049.avi in lofted\n",
            "Processed lofted_0041.avi in lofted\n",
            "Processed lofted_0037.avi in lofted\n",
            "Processed lofted_0005.avi in lofted\n",
            "Processed lofted_0039.avi in lofted\n",
            "Processed lofted_0033.avi in lofted\n",
            "Processed lofted_0030.avi in lofted\n",
            "Processed lofted_0013.avi in lofted\n",
            "Processed lofted_0091.avi in lofted\n",
            "Processed lofted_0085.avi in lofted\n",
            "Processed lofted_0177.avi in lofted\n",
            "Processed lofted_0048.avi in lofted\n",
            "Processed lofted_0057.avi in lofted\n",
            "Processed lofted_0021.avi in lofted\n",
            "Processed lofted_0056.avi in lofted\n",
            "Processed lofted_0001.avi in lofted\n",
            "Processed lofted_0107.avi in lofted\n",
            "Processed lofted_0019.avi in lofted\n",
            "Processed lofted_0178.avi in lofted\n",
            "Processed lofted_0012.avi in lofted\n",
            "Processed lofted_0105.avi in lofted\n",
            "Processed lofted_0011.avi in lofted\n",
            "Processed lofted_0172.avi in lofted\n",
            "Processed lofted_0010.avi in lofted\n",
            "Processed lofted_0106.avi in lofted\n",
            "Processed lofted_0055.avi in lofted\n",
            "Processed sweep_0186.avi in sweep\n",
            "Processed sweep_0188.avi in sweep\n",
            "Processed sweep_0191.avi in sweep\n",
            "Processed sweep_0184.avi in sweep\n",
            "Processed sweep_0190.avi in sweep\n",
            "Processed sweep_0181.avi in sweep\n",
            "Processed sweep_0185.avi in sweep\n",
            "Processed sweep_0187.avi in sweep\n",
            "Processed sweep_0182.avi in sweep\n",
            "Processed sweep_0029.avi in sweep\n",
            "Processed sweep_0180.avi in sweep\n",
            "Processed sweep_0177.avi in sweep\n",
            "Processed sweep_0183.avi in sweep\n",
            "Processed sweep_0028.avi in sweep\n",
            "Processed sweep_0178.avi in sweep\n",
            "Processed sweep_0176.avi in sweep\n",
            "Processed sweep_0175.avi in sweep\n",
            "Processed sweep_0027.avi in sweep\n",
            "Processed sweep_0174.avi in sweep\n",
            "Processed sweep_0173.avi in sweep\n",
            "Processed sweep_0120.avi in sweep\n",
            "Processed sweep_0026.avi in sweep\n",
            "Processed sweep_0025.avi in sweep\n",
            "Processed sweep_0118.avi in sweep\n",
            "Processed sweep_0117.avi in sweep\n",
            "Processed sweep_0116.avi in sweep\n",
            "Processed sweep_0115.avi in sweep\n",
            "Processed sweep_0018.avi in sweep\n",
            "Processed sweep_0114.avi in sweep\n",
            "Processed sweep_0113.avi in sweep\n",
            "Processed sweep_0112.avi in sweep\n",
            "Processed sweep_0017.avi in sweep\n",
            "Processed sweep_0127.avi in sweep\n",
            "Processed sweep_0130.avi in sweep\n",
            "Processed sweep_0129.avi in sweep\n",
            "Processed sweep_0128.avi in sweep\n",
            "Processed sweep_0126.avi in sweep\n",
            "Processed sweep_0125.avi in sweep\n",
            "Processed sweep_0124.avi in sweep\n",
            "Processed sweep_0019.avi in sweep\n",
            "Processed sweep_0170.avi in sweep\n",
            "Processed sweep_0163.avi in sweep\n",
            "Processed sweep_0169.avi in sweep\n",
            "Processed sweep_0167.avi in sweep\n",
            "Processed sweep_0168.avi in sweep\n",
            "Processed sweep_0165.avi in sweep\n",
            "Processed sweep_0164.avi in sweep\n",
            "Processed sweep_0162.avi in sweep\n",
            "Processed sweep_0160.avi in sweep\n",
            "Processed sweep_0161.avi in sweep\n",
            "Processed sweep_0159.avi in sweep\n",
            "Processed sweep_0158.avi in sweep\n",
            "Processed sweep_0156.avi in sweep\n",
            "Processed sweep_0154.avi in sweep\n",
            "Processed sweep_0152.avi in sweep\n",
            "Processed sweep_0157.avi in sweep\n",
            "Processed sweep_0149.avi in sweep\n",
            "Processed sweep_0155.avi in sweep\n",
            "Processed sweep_0151.avi in sweep\n",
            "Processed sweep_0148.avi in sweep\n",
            "Processed sweep_0150.avi in sweep\n",
            "Processed sweep_0153.avi in sweep\n",
            "Processed sweep_0024.avi in sweep\n",
            "Processed sweep_0145.avi in sweep\n",
            "Processed sweep_0147.avi in sweep\n",
            "Processed sweep_0146.avi in sweep\n",
            "Processed sweep_0144.avi in sweep\n",
            "Processed sweep_0020.avi in sweep\n",
            "Processed sweep_0021.avi in sweep\n",
            "Processed sweep_0142.avi in sweep\n",
            "Processed sweep_0141.avi in sweep\n",
            "Processed sweep_0143.avi in sweep\n",
            "Processed sweep_0022.avi in sweep\n",
            "Processed sweep_0089.avi in sweep\n",
            "Processed sweep_0140.avi in sweep\n",
            "Processed sweep_0016.avi in sweep\n",
            "Processed sweep_0088.avi in sweep\n",
            "Processed sweep_0087.avi in sweep\n",
            "Processed sweep_0085.avi in sweep\n",
            "Processed sweep_0082.avi in sweep\n",
            "Processed sweep_0015.avi in sweep\n",
            "Processed sweep_0084.avi in sweep\n",
            "Processed sweep_0086.avi in sweep\n",
            "Processed sweep_0081.avi in sweep\n",
            "Processed sweep_0080.avi in sweep\n",
            "Processed sweep_0008.avi in sweep\n",
            "Processed sweep_0009.avi in sweep\n",
            "Processed sweep_0053.avi in sweep\n",
            "Processed sweep_0079.avi in sweep\n",
            "Processed sweep_0007.avi in sweep\n",
            "Processed sweep_0046.avi in sweep\n",
            "Processed sweep_0048.avi in sweep\n",
            "Processed sweep_0045.avi in sweep\n",
            "Processed sweep_0193.avi in sweep\n",
            "Processed sweep_0039.avi in sweep\n",
            "Processed sweep_0037.avi in sweep\n",
            "Processed sweep_0038.avi in sweep\n",
            "Processed sweep_0192.avi in sweep\n",
            "Processed sweep_0005.avi in sweep\n",
            "Processed sweep_0133.avi in sweep\n",
            "Processed sweep_0111.avi in sweep\n",
            "Processed sweep_0106.avi in sweep\n",
            "Processed sweep_0109.avi in sweep\n",
            "Processed sweep_0105.avi in sweep\n",
            "Processed sweep_0123.avi in sweep\n",
            "Processed sweep_0099.avi in sweep\n",
            "Processed sweep_0049.avi in sweep\n",
            "Processed sweep_0052.avi in sweep\n",
            "Processed sweep_0096.avi in sweep\n",
            "Processed sweep_0051.avi in sweep\n",
            "Processed sweep_0030.avi in sweep\n",
            "Processed sweep_0050.avi in sweep\n",
            "Processed sweep_0044.avi in sweep\n",
            "Processed sweep_0047.avi in sweep\n",
            "Processed sweep_0006.avi in sweep\n",
            "Processed sweep_0042.avi in sweep\n",
            "Processed sweep_0194.avi in sweep\n",
            "Processed sweep_0040.avi in sweep\n",
            "Processed sweep_0179.avi in sweep\n",
            "Processed sweep_0171.avi in sweep\n",
            "Processed sweep_0043.avi in sweep\n",
            "Processed sweep_0036.avi in sweep\n",
            "Processed sweep_0172.avi in sweep\n",
            "Processed sweep_0189.avi in sweep\n",
            "Processed sweep_0166.avi in sweep\n",
            "Processed sweep_0004.avi in sweep\n",
            "Processed sweep_0003.avi in sweep\n",
            "Processed sweep_0031.avi in sweep\n",
            "Processed sweep_0137.avi in sweep\n",
            "Processed sweep_0139.avi in sweep\n",
            "Processed sweep_0002.avi in sweep\n",
            "Processed sweep_0034.avi in sweep\n",
            "Processed sweep_0122.avi in sweep\n",
            "Processed sweep_0132.avi in sweep\n",
            "Processed sweep_0135.avi in sweep\n",
            "Processed sweep_0136.avi in sweep\n",
            "Processed sweep_0033.avi in sweep\n",
            "Processed sweep_0035.avi in sweep\n",
            "Processed sweep_0121.avi in sweep\n",
            "Processed sweep_0102.avi in sweep\n",
            "Processed sweep_0032.avi in sweep\n",
            "Processed sweep_0110.avi in sweep\n",
            "Processed sweep_0103.avi in sweep\n",
            "Processed sweep_0095.avi in sweep\n",
            "Processed sweep_0012.avi in sweep\n",
            "Processed sweep_0119.avi in sweep\n",
            "Processed sweep_0107.avi in sweep\n",
            "Processed sweep_0041.avi in sweep\n",
            "Processed sweep_0108.avi in sweep\n",
            "Processed sweep_0131.avi in sweep\n",
            "Processed sweep_0091.avi in sweep\n",
            "Processed sweep_0101.avi in sweep\n",
            "Processed sweep_0100.avi in sweep\n",
            "Processed sweep_0094.avi in sweep\n",
            "Processed sweep_0075.avi in sweep\n",
            "Processed sweep_0098.avi in sweep\n",
            "Processed sweep_0023.avi in sweep\n",
            "Processed sweep_0077.avi in sweep\n",
            "Processed sweep_0001.avi in sweep\n",
            "Processed sweep_0134.avi in sweep\n",
            "Processed sweep_0076.avi in sweep\n",
            "Processed sweep_0083.avi in sweep\n",
            "Processed sweep_0104.avi in sweep\n",
            "Processed sweep_0090.avi in sweep\n",
            "Processed sweep_0068.avi in sweep\n",
            "Processed sweep_0014.avi in sweep\n",
            "Processed sweep_0058.avi in sweep\n",
            "Processed sweep_0093.avi in sweep\n",
            "Processed sweep_0066.avi in sweep\n",
            "Processed sweep_0078.avi in sweep\n",
            "Processed sweep_0074.avi in sweep\n",
            "Processed sweep_0072.avi in sweep\n",
            "Processed sweep_0073.avi in sweep\n",
            "Processed sweep_0092.avi in sweep\n",
            "Processed sweep_0138.avi in sweep\n",
            "Processed sweep_0064.avi in sweep\n",
            "Processed sweep_0069.avi in sweep\n",
            "Processed sweep_0070.avi in sweep\n",
            "Processed sweep_0071.avi in sweep\n",
            "Processed sweep_0067.avi in sweep\n",
            "Processed sweep_0097.avi in sweep\n",
            "Processed sweep_0065.avi in sweep\n",
            "Processed sweep_0011.avi in sweep\n",
            "Processed sweep_0013.avi in sweep\n",
            "Processed sweep_0057.avi in sweep\n",
            "Processed sweep_0061.avi in sweep\n",
            "Processed sweep_0010.avi in sweep\n",
            "Processed sweep_0056.avi in sweep\n",
            "Processed sweep_0060.avi in sweep\n",
            "Processed sweep_0063.avi in sweep\n",
            "Processed sweep_0054.avi in sweep\n",
            "Processed sweep_0059.avi in sweep\n",
            "Processed sweep_0062.avi in sweep\n",
            "Processed sweep_0055.avi in sweep\n",
            "Processed square_cut_0008.avi in square_cut\n",
            "Processed square_cut_0138.avi in square_cut\n",
            "Processed square_cut_0166.avi in square_cut\n",
            "Processed square_cut_0130.avi in square_cut\n",
            "Processed square_cut_0010.avi in square_cut\n",
            "Processed square_cut_0004.avi in square_cut\n",
            "Processed square_cut_0101.avi in square_cut\n",
            "Processed square_cut_0049.avi in square_cut\n",
            "Processed square_cut_0111.avi in square_cut\n",
            "Processed square_cut_0059.avi in square_cut\n",
            "Processed square_cut_0002.avi in square_cut\n",
            "Processed square_cut_0001.avi in square_cut\n",
            "Processed square_cut_0036.avi in square_cut\n",
            "Processed square_cut_0076.avi in square_cut\n",
            "Processed square_cut_0074.avi in square_cut\n",
            "Processed square_cut_0035.avi in square_cut\n",
            "Processed square_cut_0033.avi in square_cut\n",
            "Processed square_cut_0034.avi in square_cut\n",
            "Processed square_cut_0039.avi in square_cut\n",
            "Processed square_cut_0078.avi in square_cut\n",
            "Processed square_cut_0038.avi in square_cut\n",
            "Processed square_cut_0077.avi in square_cut\n",
            "Processed square_cut_0031.avi in square_cut\n",
            "Processed square_cut_0032.avi in square_cut\n",
            "Processed square_cut_0073.avi in square_cut\n",
            "Processed square_cut_0072.avi in square_cut\n",
            "Processed square_cut_0030.avi in square_cut\n",
            "Processed square_cut_0027.avi in square_cut\n",
            "Processed square_cut_0025.avi in square_cut\n",
            "Processed square_cut_0071.avi in square_cut\n",
            "Processed square_cut_0026.avi in square_cut\n",
            "Processed square_cut_0070.avi in square_cut\n",
            "Processed square_cut_0069.avi in square_cut\n",
            "Processed square_cut_0024.avi in square_cut\n",
            "Processed square_cut_0067.avi in square_cut\n",
            "Processed square_cut_0068.avi in square_cut\n",
            "Processed defense_0117.avi in defense\n",
            "Processed defense_0116.avi in defense\n",
            "Processed defense_0113.avi in defense\n",
            "Processed defense_0115.avi in defense\n",
            "Processed defense_0112.avi in defense\n",
            "Processed defense_0109.avi in defense\n",
            "Processed defense_0105.avi in defense\n",
            "Processed defense_0107.avi in defense\n",
            "Processed defense_0111.avi in defense\n",
            "Processed defense_0104.avi in defense\n",
            "Processed defense_0108.avi in defense\n",
            "Processed defense_0106.avi in defense\n",
            "Processed defense_0103.avi in defense\n",
            "Processed defense_0098.avi in defense\n",
            "Processed defense_0092.avi in defense\n",
            "Processed defense_0083.avi in defense\n",
            "Processed defense_0084.avi in defense\n",
            "Processed defense_0081.avi in defense\n",
            "Processed defense_0082.avi in defense\n",
            "Processed defense_0080.avi in defense\n",
            "Processed defense_0079.avi in defense\n",
            "Processed defense_0076.avi in defense\n",
            "Processed defense_0078.avi in defense\n",
            "Processed defense_0077.avi in defense\n",
            "Processed defense_0072.avi in defense\n",
            "Processed defense_0075.avi in defense\n",
            "Processed defense_0068.avi in defense\n",
            "Processed defense_0069.avi in defense\n",
            "Processed defense_0067.avi in defense\n",
            "Processed defense_0063.avi in defense\n",
            "Processed defense_0066.avi in defense\n",
            "Processed defense_0070.avi in defense\n",
            "Processed defense_0064.avi in defense\n",
            "Processed defense_0065.avi in defense\n",
            "Processed defense_0061.avi in defense\n",
            "Processed defense_0062.avi in defense\n",
            "Processed defense_0059.avi in defense\n",
            "Processed defense_0058.avi in defense\n",
            "Processed defense_0057.avi in defense\n",
            "Processed defense_0056.avi in defense\n",
            "Processed defense_0053.avi in defense\n",
            "Processed defense_0051.avi in defense\n",
            "Processed defense_0054.avi in defense\n",
            "Processed defense_0052.avi in defense\n",
            "Processed defense_0050.avi in defense\n",
            "Processed defense_0048.avi in defense\n",
            "Processed defense_0045.avi in defense\n",
            "Processed defense_0044.avi in defense\n",
            "Processed defense_0043.avi in defense\n",
            "Processed defense_0036.avi in defense\n",
            "Processed defense_0042.avi in defense\n",
            "Processed defense_0041.avi in defense\n",
            "Processed defense_0034.avi in defense\n",
            "Processed defense_0037.avi in defense\n",
            "Processed defense_0026.avi in defense\n",
            "Processed defense_0013.avi in defense\n",
            "Processed defense_0020.avi in defense\n",
            "Processed defense_0035.avi in defense\n",
            "Processed defense_0007.avi in defense\n",
            "Processed defense_0039.avi in defense\n",
            "Processed defense_0002.avi in defense\n",
            "Processed defense_0165.avi in defense\n",
            "Processed defense_0071.avi in defense\n",
            "Processed defense_0060.avi in defense\n",
            "Processed defense_0049.avi in defense\n",
            "Processed defense_0033.avi in defense\n",
            "Processed defense_0038.avi in defense\n",
            "Processed defense_0110.avi in defense\n",
            "Processed defense_0121.avi in defense\n",
            "Processed defense_0146.avi in defense\n",
            "Processed defense_0030.avi in defense\n",
            "Processed defense_0145.avi in defense\n",
            "Processed defense_0144.avi in defense\n",
            "Processed defense_0142.avi in defense\n",
            "Processed defense_0028.avi in defense\n",
            "Processed defense_0001.avi in defense\n",
            "Processed defense_0143.avi in defense\n",
            "Processed defense_0140.avi in defense\n",
            "Processed defense_0023.avi in defense\n",
            "Processed defense_0139.avi in defense\n",
            "Processed defense_0137.avi in defense\n",
            "Processed defense_0138.avi in defense\n",
            "Processed defense_0015.avi in defense\n",
            "Processed defense_0136.avi in defense\n",
            "Processed defense_0135.avi in defense\n",
            "Processed defense_0133.avi in defense\n",
            "Processed defense_0134.avi in defense\n",
            "Processed defense_0164.avi in defense\n",
            "Processed defense_0132.avi in defense\n",
            "Processed defense_0131.avi in defense\n",
            "Processed defense_0163.avi in defense\n",
            "Processed defense_0162.avi in defense\n",
            "Processed defense_0161.avi in defense\n",
            "Processed defense_0160.avi in defense\n",
            "Processed defense_0159.avi in defense\n",
            "Processed defense_0047.avi in defense\n",
            "Processed defense_0152.avi in defense\n",
            "Processed defense_0141.avi in defense\n",
            "Processed defense_0055.avi in defense\n",
            "Processed defense_0130.avi in defense\n",
            "Processed defense_0046.avi in defense\n",
            "Processed defense_0040.avi in defense\n"
          ]
        }
      ],
      "source": [
        "# Specify the path to ffmpeg\n",
        "FFMPEG_PATH = \"/home/taruns/mmer/MMER/ffmpeg-git-20240301-amd64-static/ffmpeg\"\n",
        "\n",
        "# Base path where your class folders are located\n",
        "base_path = \"/home/taruns/rohit/CricShot10dataset\"\n",
        "\n",
        "# Output directory to save frames\n",
        "output_dir = \"/home/taruns/rohit/frames\"\n",
        "os.makedirs(output_dir, exist_ok=True)\n",
        "\n",
        "# Iterate over each class folder\n",
        "for class_folder in os.listdir(base_path):\n",
        "    class_folder_path = os.path.join(base_path, class_folder)\n",
        "\n",
        "    # Ensure it's a directory\n",
        "    if os.path.isdir(class_folder_path):\n",
        "        # Create an output folder for each class\n",
        "        class_output_dir = os.path.join(output_dir, class_folder)\n",
        "        os.makedirs(class_output_dir, exist_ok=True)\n",
        "\n",
        "        # Iterate over each video file in the class folder\n",
        "        for video_file in os.listdir(class_folder_path):\n",
        "            video_path = os.path.join(class_folder_path, video_file)\n",
        "            video_name = os.path.splitext(video_file)[0]\n",
        "            output_pattern = os.path.join(class_output_dir, f\"{video_name}_%04d.jpg\")\n",
        "\n",
        "            # Command to extract frames at 1 fps\n",
        "            ffmpeg_command = f\"{FFMPEG_PATH} -i {video_path} -vf fps=1 {output_pattern} -loglevel quiet\"\n",
        "\n",
        "            # Execute the command\n",
        "            try:\n",
        "                subprocess.run(ffmpeg_command, shell=True, check=True)\n",
        "                print(f\"Processed {video_file} in {class_folder}\")\n",
        "            except subprocess.CalledProcessError:\n",
        "                print(f\"Failed to process video: {video_file} in {class_folder}\")\n"
      ]
    },
    {
      "cell_type": "markdown",
      "source": [
        "# Frames embeddings creation"
      ],
      "metadata": {
        "id": "STpywx7OMmhm"
      }
    },
    {
      "cell_type": "code",
      "source": [
        "# Path to the model and processor directories\n",
        "saved_model_path = '/home/taruns/project/clip/model'\n",
        "saved_processor_path = '/home/taruns/project/clip/processor'"
      ],
      "metadata": {
        "id": "aEEcOphXMxA4"
      },
      "execution_count": null,
      "outputs": []
    },
    {
      "cell_type": "code",
      "source": [
        "# Load the CLIP model and processor\n",
        "processor = CLIPProcessor.from_pretrained(saved_processor_path)\n",
        "clip_model = CLIPModel.from_pretrained(saved_model_path)\n",
        "device = \"cuda\" if torch.cuda.is_available() else \"cpu\"\n",
        "clip_model.to(device)"
      ],
      "metadata": {
        "id": "PD1_xRkTM0oQ"
      },
      "execution_count": null,
      "outputs": []
    },
    {
      "cell_type": "code",
      "source": [
        "def batch_process_images(image_paths, batch_size, processor, model, device):\n",
        "    embeddings = []\n",
        "    for i in range(0, len(image_paths), batch_size):\n",
        "        batch_paths = image_paths[i:i + batch_size]\n",
        "        batch_images = [Image.open(path).convert(\"RGB\") for path in batch_paths]\n",
        "        tokens = processor(\n",
        "            text=None,\n",
        "            images=batch_images,\n",
        "            return_tensors=\"pt\"\n",
        "        ).to(device)\n",
        "        batch_embeddings = model.get_image_features(**tokens)\n",
        "        batch_embeddings = batch_embeddings.detach().cpu().numpy()\n",
        "        embeddings.append(batch_embeddings)\n",
        "    return np.concatenate(embeddings, axis=0)"
      ],
      "metadata": {
        "id": "E6Z0ZUKpM5VM"
      },
      "execution_count": null,
      "outputs": []
    },
    {
      "cell_type": "code",
      "source": [
        "# Path where the extracted frames are stored\n",
        "main_folder = '/home/taruns/rohit/frames'\n",
        "output_folder = '/home/taruns/rohit/frames_embeddings2'\n",
        "os.makedirs(output_folder, exist_ok=True)"
      ],
      "metadata": {
        "id": "awwpfnxXNAR-"
      },
      "execution_count": null,
      "outputs": []
    },
    {
      "cell_type": "code",
      "execution_count": null,
      "metadata": {
        "id": "CfJNYp7HMVPQ",
        "outputId": "7f5a6322-ecc2-4a30-cc69-c3645da339f8"
      },
      "outputs": [
        {
          "name": "stdout",
          "output_type": "stream",
          "text": [
            "Processed 1/4 subfolders.\n",
            "Processed 2/4 subfolders.\n",
            "Processed 3/4 subfolders.\n",
            "Processed 4/4 subfolders.\n",
            "All subfolders processed.\n"
          ]
        }
      ],
      "source": [
        "subfolders = [f.path for f in os.scandir(main_folder) if f.is_dir()]\n",
        "total_subfolders = len(subfolders)\n",
        "processed_subfolders = 0\n",
        "\n",
        "for subfolder in subfolders:\n",
        "    subfolder_name = os.path.basename(subfolder)\n",
        "    output_subfolder = os.path.join(output_folder, subfolder_name)\n",
        "    os.makedirs(output_subfolder, exist_ok=True)\n",
        "    image_files = [f for f in os.listdir(subfolder) if f.endswith(('.png', '.jpg', '.jpeg'))]\n",
        "\n",
        "    if image_files:\n",
        "        image_paths = [os.path.join(subfolder, f) for f in image_files]\n",
        "        embeddings = batch_process_images(image_paths, batch_size=100, processor=processor, model=clip_model, device=device)\n",
        "\n",
        "        # Save each embedding with a filename that reflects its original image\n",
        "        for i, emb in enumerate(embeddings):\n",
        "            original_file_name = image_files[i].rsplit('.', 1)[0]  # Remove extension\n",
        "            output_path = os.path.join(output_subfolder, f'{original_file_name}_embedding.npy')\n",
        "            np.save(output_path, emb)\n",
        "\n",
        "    processed_subfolders += 1\n",
        "    print(f\"Processed {processed_subfolders}/{total_subfolders} subfolders.\")\n",
        "\n",
        "print(\"All subfolders processed.\")\n"
      ]
    },
    {
      "cell_type": "markdown",
      "source": [
        "# Using embedding and training model"
      ],
      "metadata": {
        "id": "V_y3wYFeNxxY"
      }
    },
    {
      "cell_type": "code",
      "execution_count": null,
      "metadata": {
        "id": "AZcrpOUzMVPR"
      },
      "outputs": [],
      "source": [
        "# Load embeddings and their labels\n",
        "def load_embeddings_and_labels(embeddings_folder):\n",
        "    embeddings = []\n",
        "    labels = []\n",
        "    label_mapping = {}  # To convert class names to numerical labels\n",
        "    current_label = 0\n",
        "\n",
        "    for class_folder in sorted(os.listdir(embeddings_folder)):\n",
        "        class_path = os.path.join(embeddings_folder, class_folder)\n",
        "        if os.path.isdir(class_path):\n",
        "            if class_folder not in label_mapping:\n",
        "                label_mapping[class_folder] = current_label\n",
        "                current_label += 1\n",
        "            for emb_file in sorted(os.listdir(class_path)):\n",
        "                if emb_file.endswith('_embedding.npy'):\n",
        "                    emb_path = os.path.join(class_path, emb_file)\n",
        "                    embeddings.append(np.load(emb_path))\n",
        "                    labels.append(label_mapping[class_folder])\n",
        "\n",
        "    embeddings = torch.tensor(embeddings, dtype=torch.float32)\n",
        "    labels = torch.tensor(labels, dtype=torch.long)\n",
        "    return embeddings, labels, label_mapping"
      ]
    },
    {
      "cell_type": "code",
      "execution_count": null,
      "metadata": {
        "id": "BI3EP19_MVPR"
      },
      "outputs": [],
      "source": [
        "# Define the LSTM neural network\n",
        "class LSTMNetwork(nn.Module):\n",
        "    def __init__(self, input_size=512, hidden_size=256, num_classes=4):\n",
        "        super(LSTMNetwork, self).__init__()\n",
        "        self.lstm = nn.LSTM(input_size=input_size, hidden_size=hidden_size, num_layers=1, batch_first=True)\n",
        "        self.fc = nn.Linear(hidden_size, num_classes)\n",
        "\n",
        "    def forward(self, x):\n",
        "        x, _ = self.lstm(x)\n",
        "        x = self.fc(x[:, -1, :])  # Use the output of the last time step\n",
        "        return x"
      ]
    },
    {
      "cell_type": "code",
      "source": [
        "# Load data\n",
        "embeddings_folder = '/home/taruns/rohit/frames_embeddings2'\n",
        "embeddings, labels, class_label_mapping = load_embeddings_and_labels(embeddings_folder)\n",
        "\n",
        "# Split data\n",
        "dataset = TensorDataset(embeddings.unsqueeze(1), labels)  # Add an extra dimension for LSTM sequence length\n",
        "train_size = int(0.7 * len(dataset))\n",
        "val_size = int(0.15 * len(dataset))\n",
        "test_size = len(dataset) - train_size - val_size\n",
        "train_dataset, val_dataset, test_dataset = random_split(dataset, [train_size, val_size, test_size])\n",
        "\n",
        "train_loader = DataLoader(train_dataset, batch_size=64, shuffle=True)\n",
        "val_loader = DataLoader(val_dataset, batch_size=64, shuffle=False)\n",
        "test_loader = DataLoader(test_dataset, batch_size=64, shuffle=False)"
      ],
      "metadata": {
        "id": "kJARwGReNU11"
      },
      "execution_count": null,
      "outputs": []
    },
    {
      "cell_type": "code",
      "execution_count": null,
      "metadata": {
        "id": "YfmL9nLXMVPR"
      },
      "outputs": [],
      "source": [
        "# Model\n",
        "model = LSTMNetwork(input_size=512, hidden_size=256, num_classes=len(class_label_mapping)).to(device)\n",
        "criterion = nn.CrossEntropyLoss()\n",
        "optimizer = optim.Adam(model.parameters(), lr=0.001)"
      ]
    },
    {
      "cell_type": "code",
      "execution_count": null,
      "metadata": {
        "id": "tVpmQiNaMVPR",
        "outputId": "22920d13-8e9c-4811-fc18-1976939b0495"
      },
      "outputs": [
        {
          "name": "stderr",
          "output_type": "stream",
          "text": [
            "Epoch 1: 100%|███████████████████████████████████████████████████████████████████████████| 17/17 [00:00<00:00, 129.65it/s]\n"
          ]
        },
        {
          "name": "stdout",
          "output_type": "stream",
          "text": [
            "Epoch 1, Training Loss: 1.1114254243233626\n",
            "Validation Accuracy: 0.70\n"
          ]
        },
        {
          "name": "stderr",
          "output_type": "stream",
          "text": [
            "Epoch 2: 100%|███████████████████████████████████████████████████████████████████████████| 17/17 [00:00<00:00, 128.54it/s]\n"
          ]
        },
        {
          "name": "stdout",
          "output_type": "stream",
          "text": [
            "Epoch 2, Training Loss: 0.7452620232806486\n",
            "Validation Accuracy: 0.72\n"
          ]
        },
        {
          "name": "stderr",
          "output_type": "stream",
          "text": [
            "Epoch 3: 100%|███████████████████████████████████████████████████████████████████████████| 17/17 [00:00<00:00, 126.14it/s]\n"
          ]
        },
        {
          "name": "stdout",
          "output_type": "stream",
          "text": [
            "Epoch 3, Training Loss: 0.6369289685698116\n",
            "Validation Accuracy: 0.74\n"
          ]
        },
        {
          "name": "stderr",
          "output_type": "stream",
          "text": [
            "Epoch 4: 100%|███████████████████████████████████████████████████████████████████████████| 17/17 [00:00<00:00, 126.95it/s]\n"
          ]
        },
        {
          "name": "stdout",
          "output_type": "stream",
          "text": [
            "Epoch 4, Training Loss: 0.571181150043712\n",
            "Validation Accuracy: 0.77\n"
          ]
        },
        {
          "name": "stderr",
          "output_type": "stream",
          "text": [
            "Epoch 5: 100%|███████████████████████████████████████████████████████████████████████████| 17/17 [00:00<00:00, 128.28it/s]\n"
          ]
        },
        {
          "name": "stdout",
          "output_type": "stream",
          "text": [
            "Epoch 5, Training Loss: 0.5049134668181924\n",
            "Validation Accuracy: 0.76\n"
          ]
        },
        {
          "name": "stderr",
          "output_type": "stream",
          "text": [
            "Epoch 6: 100%|███████████████████████████████████████████████████████████████████████████| 17/17 [00:00<00:00, 128.22it/s]\n"
          ]
        },
        {
          "name": "stdout",
          "output_type": "stream",
          "text": [
            "Epoch 6, Training Loss: 0.4334707137416391\n",
            "Validation Accuracy: 0.75\n"
          ]
        },
        {
          "name": "stderr",
          "output_type": "stream",
          "text": [
            "Epoch 7: 100%|███████████████████████████████████████████████████████████████████████████| 17/17 [00:00<00:00, 125.83it/s]\n"
          ]
        },
        {
          "name": "stdout",
          "output_type": "stream",
          "text": [
            "Epoch 7, Training Loss: 0.4055499487063464\n",
            "Validation Accuracy: 0.79\n"
          ]
        },
        {
          "name": "stderr",
          "output_type": "stream",
          "text": [
            "Epoch 8: 100%|███████████████████████████████████████████████████████████████████████████| 17/17 [00:00<00:00, 127.81it/s]\n"
          ]
        },
        {
          "name": "stdout",
          "output_type": "stream",
          "text": [
            "Epoch 8, Training Loss: 0.3515821660266203\n",
            "Validation Accuracy: 0.80\n"
          ]
        },
        {
          "name": "stderr",
          "output_type": "stream",
          "text": [
            "Epoch 9: 100%|███████████████████████████████████████████████████████████████████████████| 17/17 [00:00<00:00, 130.12it/s]\n"
          ]
        },
        {
          "name": "stdout",
          "output_type": "stream",
          "text": [
            "Epoch 9, Training Loss: 0.33073876710499034\n",
            "Validation Accuracy: 0.80\n"
          ]
        },
        {
          "name": "stderr",
          "output_type": "stream",
          "text": [
            "Epoch 10: 100%|██████████████████████████████████████████████████████████████████████████| 17/17 [00:00<00:00, 127.68it/s]\n"
          ]
        },
        {
          "name": "stdout",
          "output_type": "stream",
          "text": [
            "Epoch 10, Training Loss: 0.29758980870246887\n",
            "Validation Accuracy: 0.78\n"
          ]
        },
        {
          "name": "stderr",
          "output_type": "stream",
          "text": [
            "Epoch 11: 100%|██████████████████████████████████████████████████████████████████████████| 17/17 [00:00<00:00, 129.34it/s]\n"
          ]
        },
        {
          "name": "stdout",
          "output_type": "stream",
          "text": [
            "Epoch 11, Training Loss: 0.3067941858487971\n",
            "Validation Accuracy: 0.79\n"
          ]
        },
        {
          "name": "stderr",
          "output_type": "stream",
          "text": [
            "Epoch 12: 100%|██████████████████████████████████████████████████████████████████████████| 17/17 [00:00<00:00, 129.05it/s]\n"
          ]
        },
        {
          "name": "stdout",
          "output_type": "stream",
          "text": [
            "Epoch 12, Training Loss: 0.260540679535445\n",
            "Validation Accuracy: 0.84\n"
          ]
        },
        {
          "name": "stderr",
          "output_type": "stream",
          "text": [
            "Epoch 13: 100%|██████████████████████████████████████████████████████████████████████████| 17/17 [00:00<00:00, 129.66it/s]\n"
          ]
        },
        {
          "name": "stdout",
          "output_type": "stream",
          "text": [
            "Epoch 13, Training Loss: 0.23355984863112955\n",
            "Validation Accuracy: 0.84\n"
          ]
        },
        {
          "name": "stderr",
          "output_type": "stream",
          "text": [
            "Epoch 14: 100%|██████████████████████████████████████████████████████████████████████████| 17/17 [00:00<00:00, 128.46it/s]\n"
          ]
        },
        {
          "name": "stdout",
          "output_type": "stream",
          "text": [
            "Epoch 14, Training Loss: 0.24350114911794662\n",
            "Validation Accuracy: 0.83\n"
          ]
        },
        {
          "name": "stderr",
          "output_type": "stream",
          "text": [
            "Epoch 15: 100%|██████████████████████████████████████████████████████████████████████████| 17/17 [00:00<00:00, 130.19it/s]\n"
          ]
        },
        {
          "name": "stdout",
          "output_type": "stream",
          "text": [
            "Epoch 15, Training Loss: 0.22601105930174098\n",
            "Validation Accuracy: 0.86\n"
          ]
        },
        {
          "name": "stderr",
          "output_type": "stream",
          "text": [
            "Epoch 16: 100%|██████████████████████████████████████████████████████████████████████████| 17/17 [00:00<00:00, 128.28it/s]\n"
          ]
        },
        {
          "name": "stdout",
          "output_type": "stream",
          "text": [
            "Epoch 16, Training Loss: 0.19718347051564386\n",
            "Validation Accuracy: 0.85\n"
          ]
        },
        {
          "name": "stderr",
          "output_type": "stream",
          "text": [
            "Epoch 17: 100%|██████████████████████████████████████████████████████████████████████████| 17/17 [00:00<00:00, 130.95it/s]\n"
          ]
        },
        {
          "name": "stdout",
          "output_type": "stream",
          "text": [
            "Epoch 17, Training Loss: 0.19537548983798309\n",
            "Validation Accuracy: 0.86\n"
          ]
        },
        {
          "name": "stderr",
          "output_type": "stream",
          "text": [
            "Epoch 18: 100%|██████████████████████████████████████████████████████████████████████████| 17/17 [00:00<00:00, 128.72it/s]\n"
          ]
        },
        {
          "name": "stdout",
          "output_type": "stream",
          "text": [
            "Epoch 18, Training Loss: 0.16276761495015202\n",
            "Validation Accuracy: 0.83\n"
          ]
        },
        {
          "name": "stderr",
          "output_type": "stream",
          "text": [
            "Epoch 19: 100%|██████████████████████████████████████████████████████████████████████████| 17/17 [00:00<00:00, 131.49it/s]\n"
          ]
        },
        {
          "name": "stdout",
          "output_type": "stream",
          "text": [
            "Epoch 19, Training Loss: 0.17241775288301356\n",
            "Validation Accuracy: 0.87\n"
          ]
        },
        {
          "name": "stderr",
          "output_type": "stream",
          "text": [
            "Epoch 20: 100%|██████████████████████████████████████████████████████████████████████████| 17/17 [00:00<00:00, 131.67it/s]"
          ]
        },
        {
          "name": "stdout",
          "output_type": "stream",
          "text": [
            "Epoch 20, Training Loss: 0.14270910620689392\n",
            "Validation Accuracy: 0.87\n",
            "Test Accuracy: 0.85\n",
            "Confusion Matrix:\n",
            "[[49  0  0  0]\n",
            " [ 0 65  6 14]\n",
            " [ 0  1  6  2]\n",
            " [ 2  5  4 70]]\n",
            "Classification Report:\n",
            "              precision    recall  f1-score   support\n",
            "\n",
            "     defense       0.96      1.00      0.98        49\n",
            "      lofted       0.92      0.76      0.83        85\n",
            "  square_cut       0.38      0.67      0.48         9\n",
            "       sweep       0.81      0.86      0.84        81\n",
            "\n",
            "    accuracy                           0.85       224\n",
            "   macro avg       0.77      0.82      0.78       224\n",
            "weighted avg       0.87      0.85      0.85       224\n",
            "\n"
          ]
        },
        {
          "name": "stderr",
          "output_type": "stream",
          "text": [
            "\n"
          ]
        }
      ],
      "source": [
        "# Training loop\n",
        "num_epochs = 20\n",
        "for epoch in range(num_epochs):\n",
        "    model.train()\n",
        "    total_loss = 0\n",
        "    for data, target in tqdm(train_loader, desc=f'Epoch {epoch + 1}'):\n",
        "        data, target = data.to(device), target.to(device)\n",
        "        optimizer.zero_grad()\n",
        "        output = model(data)\n",
        "        loss = criterion(output, target)\n",
        "        loss.backward()\n",
        "        optimizer.step()\n",
        "        total_loss += loss.item()\n",
        "\n",
        "    print(f\"Epoch {epoch + 1}, Training Loss: {total_loss / len(train_loader)}\")\n",
        "\n",
        "    # Validation\n",
        "    model.eval()\n",
        "    total_correct = total = 0\n",
        "    with torch.no_grad():\n",
        "        for data, target in val_loader:\n",
        "            data, target = data.to(device), target.to(device)\n",
        "            output = model(data)\n",
        "            _, predicted = torch.max(output, 1)\n",
        "            total_correct += (predicted == target).sum().item()\n",
        "            total += target.size(0)\n",
        "\n",
        "    val_accuracy = total_correct / total\n",
        "    print(f\"Validation Accuracy: {val_accuracy:.2f}\")\n",
        "\n",
        "# Test\n",
        "model.eval()\n",
        "total_correct = total = 0\n",
        "with torch.no_grad():\n",
        "    for data, target in test_loader:\n",
        "        data, target = data.to(device), target.to(device)\n",
        "        output = model(data)\n",
        "        _, predicted = torch.max(output, 1)\n",
        "        total_correct += (predicted == target).sum().item()\n",
        "        total += target.size(0)\n",
        "\n",
        "test_accuracy = total_correct / total\n",
        "print(f\"Test Accuracy: {test_accuracy:.2f}\")\n",
        "\n",
        "#confusion matrix\n",
        "all_labels = []\n",
        "all_preds = []\n",
        "for data, target in test_loader:\n",
        "    data, target = data.to(device), target.to(device)\n",
        "    output = model(data)\n",
        "    _, predicted = torch.max(output, 1)\n",
        "    all_labels.extend(target.tolist())\n",
        "    all_preds.extend(predicted.tolist())\n",
        "\n",
        "conf_mat = confusion_matrix(all_labels, all_preds)\n",
        "print(\"Confusion Matrix:\")\n",
        "print(conf_mat)\n",
        "\n",
        "from sklearn.metrics import classification_report\n",
        "report = classification_report(all_labels, all_preds, target_names=list(class_label_mapping.keys()))\n",
        "print(\"Classification Report:\")\n",
        "print(report)"
      ]
    }
  ],
  "metadata": {
    "kernelspec": {
      "display_name": "clip",
      "language": "python",
      "name": "clip"
    },
    "language_info": {
      "codemirror_mode": {
        "name": "ipython",
        "version": 3
      },
      "file_extension": ".py",
      "mimetype": "text/x-python",
      "name": "python",
      "nbconvert_exporter": "python",
      "pygments_lexer": "ipython3",
      "version": "3.8.19"
    },
    "colab": {
      "provenance": []
    }
  },
  "nbformat": 4,
  "nbformat_minor": 0
}